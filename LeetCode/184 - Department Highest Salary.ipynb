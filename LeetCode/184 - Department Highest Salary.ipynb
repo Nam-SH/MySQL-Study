{
 "cells": [
  {
   "cell_type": "markdown",
   "metadata": {},
   "source": [
    "# 184. Department Highest Salary\n",
    "\n",
    "<br>\n",
    "\n",
    "\n",
    "```\n",
    "The Employee table holds all employees. Every employee has an Id, a salary, and there is also a column for the department Id.\n",
    "\n",
    "+----+-------+--------+--------------+\n",
    "| Id | Name  | Salary | DepartmentId |\n",
    "+----+-------+--------+--------------+\n",
    "| 1  | Joe   | 70000  | 1            |\n",
    "| 2  | Jim   | 90000  | 1            |\n",
    "| 3  | Henry | 80000  | 2            |\n",
    "| 4  | Sam   | 60000  | 2            |\n",
    "| 5  | Max   | 90000  | 1            |\n",
    "+----+-------+--------+--------------+\n",
    "The Department table holds all departments of the company.\n",
    "\n",
    "+----+----------+\n",
    "| Id | Name     |\n",
    "+----+----------+\n",
    "| 1  | IT       |\n",
    "| 2  | Sales    |\n",
    "+----+----------+\n",
    "Write a SQL query to find employees who have the highest salary in each of the departments. For the above tables, your SQL query should return the following rows (order of rows does not matter).\n",
    "\n",
    "+------------+----------+--------+\n",
    "| Department | Employee | Salary |\n",
    "+------------+----------+--------+\n",
    "| IT         | Max      | 90000  |\n",
    "| IT         | Jim      | 90000  |\n",
    "| Sales      | Henry    | 80000  |\n",
    "+------------+----------+--------+\n",
    "Explanation:\n",
    "\n",
    "Max and Jim both have the highest salary in the IT department and Henry has the highest salary in the Sales department.\n",
    "```"
   ]
  },
  {
   "cell_type": "markdown",
   "metadata": {},
   "source": [
    "```mysql\n",
    "SELECT D.Name AS Department, E.Name AS Employee, E.Salary AS Salary\n",
    "FROM Employee AS E\n",
    "INNER JOIN \n",
    "    (SELECT DepartmentId, MAX(Salary) AS max_sal\n",
    "     FROM Employee \n",
    "     GROUP BY DepartmentId\n",
    "    ) SUB\n",
    "    ON SUB.DepartmentId = E.DepartmentId\n",
    "    AND SUB.max_sal = E.Salary \n",
    "INNER JOIN Department AS D ON D.Id = E.DepartmentId \n",
    "```\n",
    "<hr>"
   ]
  },
  {
   "cell_type": "markdown",
   "metadata": {},
   "source": [
    "```mysql\n",
    "SELECT\n",
    "    Department.name AS 'Department',\n",
    "    Employee.name AS 'Employee',\n",
    "    Salary\n",
    "FROM\n",
    "    Employee\n",
    "    INNER JOIN Department ON Employee.DepartmentId = Department.Id\n",
    "WHERE\n",
    "    (Employee.DepartmentId , Salary) IN\n",
    "    (SELECT DepartmentId, MAX(Salary)\n",
    "     FROM Employee\n",
    "     GROUP BY DepartmentId\n",
    "```\n",
    "<hr>"
   ]
  },
  {
   "cell_type": "markdown",
   "metadata": {},
   "source": [
    "```mysql\n",
    "SELECT Ms.Dn AS Department\n",
    "     , Ms.En AS Employee\n",
    "     , Ms.max_sal AS Salary\n",
    "FROM (\n",
    "    SELECT D.Name AS Dn\n",
    "         , E.Salary \n",
    "         , E.Name AS En\n",
    "         , MAX(Salary) OVER (PARTITION BY E.DepartmentId) max_sal\n",
    "    FROM Employee E\n",
    "        INNER JOIN Department D ON E.DepartmentId = D.Id\n",
    "    ) Ms\n",
    "WHERE Ms.Salary = Ms.max_sal\n",
    "```"
   ]
  },
  {
   "cell_type": "code",
   "execution_count": null,
   "metadata": {},
   "outputs": [],
   "source": []
  }
 ],
 "metadata": {
  "kernelspec": {
   "display_name": "Python 3",
   "language": "python",
   "name": "python3"
  },
  "language_info": {
   "codemirror_mode": {
    "name": "ipython",
    "version": 3
   },
   "file_extension": ".py",
   "mimetype": "text/x-python",
   "name": "python",
   "nbconvert_exporter": "python",
   "pygments_lexer": "ipython3",
   "version": "3.7.6"
  }
 },
 "nbformat": 4,
 "nbformat_minor": 4
}
