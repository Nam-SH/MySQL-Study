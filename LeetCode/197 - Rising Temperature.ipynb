{
 "cells": [
  {
   "cell_type": "markdown",
   "metadata": {},
   "source": [
    "# 197 - Rising Temperature\n",
    "\n",
    "<br>\n",
    "\n",
    "\n",
    "```\n",
    "Given a Weather table, write a SQL query to find all dates' Ids with higher temperature compared to its previous (yesterday's) dates.\n",
    "\n",
    "+---------+------------------+------------------+\n",
    "| Id(INT) | RecordDate(DATE) | Temperature(INT) |\n",
    "+---------+------------------+------------------+\n",
    "|       1 |       2015-01-01 |               10 |\n",
    "|       2 |       2015-01-02 |               25 |\n",
    "|       3 |       2015-01-03 |               20 |\n",
    "|       4 |       2015-01-04 |               30 |\n",
    "+---------+------------------+------------------+\n",
    "For example, return the following Ids for the above Weather table:\n",
    "\n",
    "+----+\n",
    "| Id |\n",
    "+----+\n",
    "|  2 |\n",
    "|  4 |\n",
    "+----+\n",
    "```"
   ]
  },
  {
   "cell_type": "markdown",
   "metadata": {},
   "source": [
    "```mysql\n",
    "SELECT Weather.Id AS Id\n",
    "FROM Weather\n",
    "    INNER JOIN Weather AS Yesterday ON Weather.RecordDate = DATE_ADD(Yesterday.RecordDate, INTERVAL 1 DAY)\n",
    "WHERE Weather.Temperature > Yesterday.Temperature\n",
    "```"
   ]
  }
 ],
 "metadata": {
  "kernelspec": {
   "display_name": "Python 3",
   "language": "python",
   "name": "python3"
  },
  "language_info": {
   "codemirror_mode": {
    "name": "ipython",
    "version": 3
   },
   "file_extension": ".py",
   "mimetype": "text/x-python",
   "name": "python",
   "nbconvert_exporter": "python",
   "pygments_lexer": "ipython3",
   "version": "3.7.6"
  }
 },
 "nbformat": 4,
 "nbformat_minor": 4
}
