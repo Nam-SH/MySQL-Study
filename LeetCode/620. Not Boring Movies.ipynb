{
 "cells": [
  {
   "cell_type": "markdown",
   "metadata": {},
   "source": [
    "# 620. Not Boring Movies\n",
    "\n",
    "<br>\n",
    "    \n",
    "```\n",
    "X city opened a new cinema, many people would like to go to this cinema. The cinema also gives out a poster indicating the movies’ ratings and descriptions.\n",
    "Please write a SQL query to output movies with an odd numbered ID and a description that is not 'boring'. Order the result by rating.\n",
    "\n",
    " \n",
    "\n",
    "For example, table cinema:\n",
    "\n",
    "+---------+-----------+--------------+-----------+\n",
    "|   id    | movie     |  description |  rating   |\n",
    "+---------+-----------+--------------+-----------+\n",
    "|   1     | War       |   great 3D   |   8.9     |\n",
    "|   2     | Science   |   fiction    |   8.5     |\n",
    "|   3     | irish     |   boring     |   6.2     |\n",
    "|   4     | Ice song  |   Fantacy    |   8.6     |\n",
    "|   5     | House card|   Interesting|   9.1     |\n",
    "+---------+-----------+--------------+-----------+\n",
    "For the example above, the output should be:\n",
    "+---------+-----------+--------------+-----------+\n",
    "|   id    | movie     |  description |  rating   |\n",
    "+---------+-----------+--------------+-----------+\n",
    "|   5     | House card|   Interesting|   9.1     |\n",
    "|   1     | War       |   great 3D   |   8.9     |\n",
    "+---------+-----------+--------------+-----------+\n",
    "```"
   ]
  },
  {
   "cell_type": "markdown",
   "metadata": {},
   "source": [
    "```mysql\n",
    "# Write your MySQL query statement below\n",
    "\n",
    "SELECT id, movie, description, rating\n",
    "FROM cinema\n",
    "WHERE id % 2 = 1 AND description <> \"boring\"\n",
    "ORDER BY rating DESC\n",
    "```"
   ]
  }
 ],
 "metadata": {
  "kernelspec": {
   "display_name": "Python 3",
   "language": "python",
   "name": "python3"
  },
  "language_info": {
   "codemirror_mode": {
    "name": "ipython",
    "version": 3
   },
   "file_extension": ".py",
   "mimetype": "text/x-python",
   "name": "python",
   "nbconvert_exporter": "python",
   "pygments_lexer": "ipython3",
   "version": "3.7.6"
  }
 },
 "nbformat": 4,
 "nbformat_minor": 4
}
