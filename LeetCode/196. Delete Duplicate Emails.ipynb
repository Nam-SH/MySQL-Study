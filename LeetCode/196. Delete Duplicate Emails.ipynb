{
 "cells": [
  {
   "cell_type": "markdown",
   "metadata": {},
   "source": [
    "# 196. Delete Duplicate Emails\n",
    "\n",
    "<br>\n",
    "\n",
    "\n",
    "```\n",
    "Write a SQL query to delete all duplicate email entries in a table named Person, keeping only unique emails based on its smallest Id.\n",
    "\n",
    "+----+------------------+\n",
    "| Id | Email            |\n",
    "+----+------------------+\n",
    "| 1  | john@example.com |\n",
    "| 2  | bob@example.com  |\n",
    "| 3  | john@example.com |\n",
    "+----+------------------+\n",
    "Id is the primary key column for this table.\n",
    "For example, after running your query, the above Person table should have the following rows:\n",
    "\n",
    "+----+------------------+\n",
    "| Id | Email            |\n",
    "+----+------------------+\n",
    "| 1  | john@example.com |\n",
    "| 2  | bob@example.com  |\n",
    "+----+------------------+\n",
    "Note:\n",
    "\n",
    "Your output is the whole Person table after executing your sql. Use delete statement.\n",
    "```"
   ]
  },
  {
   "cell_type": "markdown",
   "metadata": {},
   "source": [
    "```mysql\n",
    "DELETE\n",
    "FROM Person\n",
    "WHERE Id NOT IN (\n",
    "SELECT SUB.min_id\n",
    "FROM\n",
    "(SELECT MIN(Id) AS min_id\n",
    "FROM Person\n",
    "GROUP BY Email\n",
    ") SUB\n",
    ")\n",
    "```"
   ]
  },
  {
   "cell_type": "markdown",
   "metadata": {},
   "source": [
    "```MYSQL\n",
    "DELETE P\n",
    "FROM PERSON AS P\n",
    "INNER JOIN PERSON AS S ON P.Email = S.Email\n",
    "WHERE P.Id > S.Id\n",
    "```"
   ]
  }
 ],
 "metadata": {
  "kernelspec": {
   "display_name": "Python 3",
   "language": "python",
   "name": "python3"
  },
  "language_info": {
   "codemirror_mode": {
    "name": "ipython",
    "version": 3
   },
   "file_extension": ".py",
   "mimetype": "text/x-python",
   "name": "python",
   "nbconvert_exporter": "python",
   "pygments_lexer": "ipython3",
   "version": "3.7.6"
  }
 },
 "nbformat": 4,
 "nbformat_minor": 4
}
