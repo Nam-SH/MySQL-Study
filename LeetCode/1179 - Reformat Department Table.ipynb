{
 "cells": [
  {
   "cell_type": "markdown",
   "metadata": {},
   "source": [
    "# 1179. Reformat Department Table\n",
    "\n",
    "<br>\n",
    "<br>\n",
    "\n",
    "\n",
    "```\n",
    "Table: Department\n",
    "\n",
    "+---------------+---------+\n",
    "| Column Name   | Type    |\n",
    "+---------------+---------+\n",
    "| id            | int     |\n",
    "| revenue       | int     |\n",
    "| month         | varchar |\n",
    "+---------------+---------+\n",
    "(id, month) is the primary key of this table.\n",
    "The table has information about the revenue of each department per month.\n",
    "The month has values in [\"Jan\",\"Feb\",\"Mar\",\"Apr\",\"May\",\"Jun\",\"Jul\",\"Aug\",\"Sep\",\"Oct\",\"Nov\",\"Dec\"].\n",
    " \n",
    "\n",
    "Write an SQL query to reformat the table such that there is a department id column and a revenue column for each month.\n",
    "\n",
    "The query result format is in the following example:\n",
    "\n",
    "Department table:\n",
    "+------+---------+-------+\n",
    "| id   | revenue | month |\n",
    "+------+---------+-------+\n",
    "| 1    | 8000    | Jan   |\n",
    "| 2    | 9000    | Jan   |\n",
    "| 3    | 10000   | Feb   |\n",
    "| 1    | 7000    | Feb   |\n",
    "| 1    | 6000    | Mar   |\n",
    "+------+---------+-------+\n",
    "\n",
    "Result table:\n",
    "+------+-------------+-------------+-------------+-----+-------------+\n",
    "| id   | Jan_Revenue | Feb_Revenue | Mar_Revenue | ... | Dec_Revenue |\n",
    "+------+-------------+-------------+-------------+-----+-------------+\n",
    "| 1    | 8000        | 7000        | 6000        | ... | null        |\n",
    "| 2    | 9000        | null        | null        | ... | null        |\n",
    "| 3    | null        | 10000       | null        | ... | null        |\n",
    "+------+-------------+-------------+-------------+-----+-------------+\n",
    "\n",
    "Note that the result table has 13 columns (1 for the department id + 12 for the months).\n",
    "```"
   ]
  },
  {
   "cell_type": "markdown",
   "metadata": {},
   "source": [
    "```mysql\n",
    "SELECT id,\n",
    "        SUM(CASE WHEN month = 'Jan' THEN revenue ELSE NULL END) AS Jan_Revenue,\n",
    "        SUM(CASE WHEN month = 'Feb' THEN revenue ELSE NULL END) AS Feb_Revenue,\n",
    "        SUM(CASE WHEN month = 'Mar' THEN revenue ELSE NULL END) AS Mar_Revenue,\n",
    "        SUM(CASE WHEN month = 'Apr' THEN revenue ELSE NULL END) AS Apr_Revenue,\n",
    "        SUM(CASE WHEN month = 'May' THEN revenue ELSE NULL END) AS May_Revenue,\n",
    "        SUM(CASE WHEN month = 'Jun' THEN revenue ELSE NULL END) AS Jun_Revenue,\n",
    "        SUM(CASE WHEN month = 'Jul' THEN revenue ELSE NULL END) AS Jul_Revenue,\n",
    "        SUM(CASE WHEN month = 'Aug' THEN revenue ELSE NULL END) AS Aug_Revenue,\n",
    "        SUM(CASE WHEN month = 'Sep' THEN revenue ELSE NULL END) AS Sep_Revenue,\n",
    "        SUM(CASE WHEN month = 'Oct' THEN revenue ELSE NULL END) AS Oct_Revenue,\n",
    "        SUM(CASE WHEN month = 'Nov' THEN revenue ELSE NULL END) AS Nov_Revenue,\n",
    "        SUM(CASE WHEN month = 'Dec' THEN revenue ELSE NULL END) AS Dec_Revenue\n",
    "FROM Department\n",
    "GROUP BY id;\n",
    "```"
   ]
  }
 ],
 "metadata": {
  "kernelspec": {
   "display_name": "Python 3",
   "language": "python",
   "name": "python3"
  },
  "language_info": {
   "codemirror_mode": {
    "name": "ipython",
    "version": 3
   },
   "file_extension": ".py",
   "mimetype": "text/x-python",
   "name": "python",
   "nbconvert_exporter": "python",
   "pygments_lexer": "ipython3",
   "version": "3.7.6"
  },
  "toc": {
   "base_numbering": 1,
   "nav_menu": {},
   "number_sections": true,
   "sideBar": true,
   "skip_h1_title": false,
   "title_cell": "Table of Contents",
   "title_sidebar": "Contents",
   "toc_cell": false,
   "toc_position": {},
   "toc_section_display": true,
   "toc_window_display": false
  },
  "varInspector": {
   "cols": {
    "lenName": 16,
    "lenType": 16,
    "lenVar": 40
   },
   "kernels_config": {
    "python": {
     "delete_cmd_postfix": "",
     "delete_cmd_prefix": "del ",
     "library": "var_list.py",
     "varRefreshCmd": "print(var_dic_list())"
    },
    "r": {
     "delete_cmd_postfix": ") ",
     "delete_cmd_prefix": "rm(",
     "library": "var_list.r",
     "varRefreshCmd": "cat(var_dic_list()) "
    }
   },
   "types_to_exclude": [
    "module",
    "function",
    "builtin_function_or_method",
    "instance",
    "_Feature"
   ],
   "window_display": false
  }
 },
 "nbformat": 4,
 "nbformat_minor": 4
}
