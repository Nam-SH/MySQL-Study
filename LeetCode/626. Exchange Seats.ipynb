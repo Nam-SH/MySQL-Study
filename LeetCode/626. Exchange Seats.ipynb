{
 "cells": [
  {
   "cell_type": "markdown",
   "metadata": {},
   "source": [
    "# 626. Exchange Seats\n",
    "\n",
    "<br>\n",
    "    \n",
    "```\n",
    "Mary is a teacher in a middle school and she has a table seat storing students' names and their corresponding seat ids.\n",
    "\n",
    "The column id is continuous increment.\n",
    " \n",
    "\n",
    "Mary wants to change seats for the adjacent students.\n",
    " \n",
    "\n",
    "Can you write a SQL query to output the result for Mary?\n",
    " \n",
    "\n",
    "+---------+---------+\n",
    "|    id   | student |\n",
    "+---------+---------+\n",
    "|    1    | Abbot   |\n",
    "|    2    | Doris   |\n",
    "|    3    | Emerson |\n",
    "|    4    | Green   |\n",
    "|    5    | Jeames  |\n",
    "+---------+---------+\n",
    "For the sample input, the output is:\n",
    " \n",
    "\n",
    "+---------+---------+\n",
    "|    id   | student |\n",
    "+---------+---------+\n",
    "|    1    | Doris   |\n",
    "|    2    | Abbot   |\n",
    "|    3    | Green   |\n",
    "|    4    | Emerson |\n",
    "|    5    | Jeames  |\n",
    "+---------+---------+\n",
    "Note:\n",
    "If the number of students is odd, there is no need to change the last one's seat.\n",
    "```"
   ]
  },
  {
   "cell_type": "markdown",
   "metadata": {},
   "source": [
    "```mysql\n",
    "# Write your MySQL query statement below\n",
    "\n",
    "SELECT IF(MOD(id, 2) AND cnt <> id, id + 1, IF(MOD(id, 2) AND cnt = id, id, id - 1)) AS id, student\n",
    "FROM seat, (SELECT COUNT(*) AS cnt \n",
    "            FROM seat) AS seat_counts\n",
    "ORDER BY id ASC;\n",
    "```"
   ]
  }
 ],
 "metadata": {
  "kernelspec": {
   "display_name": "Python 3",
   "language": "python",
   "name": "python3"
  },
  "language_info": {
   "codemirror_mode": {
    "name": "ipython",
    "version": 3
   },
   "file_extension": ".py",
   "mimetype": "text/x-python",
   "name": "python",
   "nbconvert_exporter": "python",
   "pygments_lexer": "ipython3",
   "version": "3.7.6"
  }
 },
 "nbformat": 4,
 "nbformat_minor": 4
}
