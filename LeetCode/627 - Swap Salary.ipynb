{
 "cells": [
  {
   "cell_type": "markdown",
   "metadata": {},
   "source": [
    "# 627. Swap Salary\n",
    "\n",
    "<br>\n",
    "\n",
    "\n",
    "```\n",
    "Given a table salary, such as the one below, that has m=male and f=female values. Swap all f and m values (i.e., change all f values to m and vice versa) with a single update statement and no intermediate temp table.\n",
    "\n",
    "Note that you must write a single update statement, DO NOT write any select statement for this problem.\n",
    "\n",
    " \n",
    "\n",
    "Example:\n",
    "\n",
    "| id | name | sex | salary |\n",
    "|----|------|-----|--------|\n",
    "| 1  | A    | m   | 2500   |\n",
    "| 2  | B    | f   | 1500   |\n",
    "| 3  | C    | m   | 5500   |\n",
    "| 4  | D    | f   | 500    |\n",
    "After running your update statement, the above salary table should have the following rows:\n",
    "| id | name | sex | salary |\n",
    "|----|------|-----|--------|\n",
    "| 1  | A    | f   | 2500   |\n",
    "| 2  | B    | m   | 1500   |\n",
    "| 3  | C    | f   | 5500   |\n",
    "| 4  | D    | m   | 500    |\n",
    "```"
   ]
  },
  {
   "cell_type": "markdown",
   "metadata": {},
   "source": [
    "```mysql\n",
    "UPDATE salary \n",
    "SET sex = \n",
    "CASE \n",
    "    WHEN sex = 'f' THEN 'm'\n",
    "    ELSE 'f'\n",
    "END\n",
    "```"
   ]
  }
 ],
 "metadata": {
  "kernelspec": {
   "display_name": "Python 3",
   "language": "python",
   "name": "python3"
  },
  "language_info": {
   "codemirror_mode": {
    "name": "ipython",
    "version": 3
   },
   "file_extension": ".py",
   "mimetype": "text/x-python",
   "name": "python",
   "nbconvert_exporter": "python",
   "pygments_lexer": "ipython3",
   "version": "3.7.6"
  }
 },
 "nbformat": 4,
 "nbformat_minor": 4
}
