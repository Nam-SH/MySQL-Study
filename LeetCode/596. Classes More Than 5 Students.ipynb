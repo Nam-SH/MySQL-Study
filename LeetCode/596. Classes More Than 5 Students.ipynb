{
 "cells": [
  {
   "cell_type": "markdown",
   "metadata": {},
   "source": [
    "# 596. Classes More Than 5 Students\n",
    "\n",
    "<br>\n",
    "    \n",
    "```\n",
    "There is a table courses with columns: student and class\n",
    "\n",
    "Please list out all classes which have more than or equal to 5 students.\n",
    "\n",
    "For example, the table:\n",
    "\n",
    "+---------+------------+\n",
    "| student | class      |\n",
    "+---------+------------+\n",
    "| A       | Math       |\n",
    "| B       | English    |\n",
    "| C       | Math       |\n",
    "| D       | Biology    |\n",
    "| E       | Math       |\n",
    "| F       | Computer   |\n",
    "| G       | Math       |\n",
    "| H       | Math       |\n",
    "| I       | Math       |\n",
    "+---------+------------+\n",
    "Should output:\n",
    "\n",
    "+---------+\n",
    "| class   |\n",
    "+---------+\n",
    "| Math    |\n",
    "+---------+\n",
    "```"
   ]
  },
  {
   "cell_type": "markdown",
   "metadata": {},
   "source": [
    "```mysql\n",
    "# Write your MySQL query statement below\n",
    "\n",
    "SELECT class\n",
    "FROM courses\n",
    "GROUP BY class\n",
    "HAVING COUNT(DISTINCT student) >= 5\n",
    "```"
   ]
  }
 ],
 "metadata": {
  "kernelspec": {
   "display_name": "Python 3",
   "language": "python",
   "name": "python3"
  },
  "language_info": {
   "codemirror_mode": {
    "name": "ipython",
    "version": 3
   },
   "file_extension": ".py",
   "mimetype": "text/x-python",
   "name": "python",
   "nbconvert_exporter": "python",
   "pygments_lexer": "ipython3",
   "version": "3.7.6"
  }
 },
 "nbformat": 4,
 "nbformat_minor": 4
}
