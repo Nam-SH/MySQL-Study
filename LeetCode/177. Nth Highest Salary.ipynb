{
 "cells": [
  {
   "cell_type": "markdown",
   "metadata": {},
   "source": [
    "# 177. Nth Highest Salary\n",
    "\n",
    "<br>\n",
    "\n",
    "\n",
    "```\n",
    "Write a SQL query to get the nth highest salary from the Employee table.\n",
    "\n",
    "+----+--------+\n",
    "| Id | Salary |\n",
    "+----+--------+\n",
    "| 1  | 100    |\n",
    "| 2  | 200    |\n",
    "| 3  | 300    |\n",
    "+----+--------+\n",
    "For example, given the above Employee table, the nth highest salary where n = 2 is 200. If there is no nth highest salary, then the query should return null.\n",
    "\n",
    "+------------------------+\n",
    "| getNthHighestSalary(2) |\n",
    "+------------------------+\n",
    "| 200                    |\n",
    "+------------------------+\n",
    "```"
   ]
  },
  {
   "cell_type": "markdown",
   "metadata": {},
   "source": [
    "```mysql\n",
    "CREATE FUNCTION getNthHighestSalary(N INT) \n",
    "RETURNS INT\n",
    "BEGIN\n",
    "    RETURN (\n",
    "        SELECT IF (COUNT(SAL) >= N, MIN(SAL), NULL)\n",
    "        FROM (\n",
    "            SELECT DISTINCT Salary AS Sal\n",
    "            FROM Employee\n",
    "            ORDER BY Salary DESC\n",
    "            LIMIT N\n",
    "            ) A\n",
    "    );\n",
    "END\n",
    "```"
   ]
  }
 ],
 "metadata": {
  "kernelspec": {
   "display_name": "Python 3",
   "language": "python",
   "name": "python3"
  },
  "language_info": {
   "codemirror_mode": {
    "name": "ipython",
    "version": 3
   },
   "file_extension": ".py",
   "mimetype": "text/x-python",
   "name": "python",
   "nbconvert_exporter": "python",
   "pygments_lexer": "ipython3",
   "version": "3.7.6"
  }
 },
 "nbformat": 4,
 "nbformat_minor": 4
}
