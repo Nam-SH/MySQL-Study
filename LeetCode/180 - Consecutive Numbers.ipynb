{
 "cells": [
  {
   "cell_type": "markdown",
   "metadata": {},
   "source": [
    "# 180. Consecutive Numbers\n",
    "\n",
    "<br>\n",
    "\n",
    "\n",
    "```\n",
    "Write a SQL query to find all numbers that appear at least three times consecutively.\n",
    "\n",
    "+----+-----+\n",
    "| Id | Num |\n",
    "+----+-----+\n",
    "| 1  |  1  |\n",
    "| 2  |  1  |\n",
    "| 3  |  1  |\n",
    "| 4  |  2  |\n",
    "| 5  |  1  |\n",
    "| 6  |  2  |\n",
    "| 7  |  2  |\n",
    "+----+-----+\n",
    "For example, given the above Logs table, 1 is the only number that appears consecutively for at least three times.\n",
    "\n",
    "+-----------------+\n",
    "| ConsecutiveNums |\n",
    "+-----------------+\n",
    "| 1               |\n",
    "+-----------------+\n",
    "```"
   ]
  },
  {
   "cell_type": "markdown",
   "metadata": {},
   "source": [
    "```mysql\n",
    "SELECT DISTINCT L1.num AS ConsecutiveNums \n",
    "FROM Logs AS L1\n",
    "    INNER JOIN Logs AS L2 ON L1.Id = L2.Id + 1\n",
    "    INNER JOIN Logs AS L3 ON L1.Id = L3.Id + 2 \n",
    "WHERE L1.num = L2.num AND L2.num = L3.num\n",
    "```\n",
    "<hr>"
   ]
  },
  {
   "cell_type": "markdown",
   "metadata": {},
   "source": [
    "```mysql\n",
    "SELECT DISTINCT Num AS ConsecutiveNums\n",
    "FROM Logs\n",
    "WHERE (Id + 1, Num) IN (SELECT * FROM Logs) \n",
    "    AND (Id + 2, Num) IN (SELECT * FROM Logs);\n",
    "```\n",
    "<hr>"
   ]
  },
  {
   "cell_type": "markdown",
   "metadata": {},
   "source": [
    "```MYSQL\n",
    "SELECT DISTINCT L1.Num AS ConsecutiveNums \n",
    "FROM Logs AS L1, Logs AS L2, Logs AS L3\n",
    "WHERE L1.Num = L2.Num \n",
    "    AND L2.Num = L3.Num \n",
    "    AND L1.Id = L2.Id - 1 \n",
    "    AND L2.Id = L3.Id - 1;\n",
    "\n",
    "```\n",
    "<hr>"
   ]
  },
  {
   "cell_type": "markdown",
   "metadata": {},
   "source": [
    "```mysql\n",
    "SELECT DISTINCT L.NUM AS ConsecutiveNums\n",
    "FROM (\n",
    "    SELECT Num\n",
    "         , LEAD (NUM, 1) OVER (ORDER BY Id) AS Num2\n",
    "         , LEAD (NUM, 2) OVER (ORDER BY Id) AS Num3\n",
    "    FROM Logs\n",
    "    ) L\n",
    "WHERE L.NUM = L.NUM2 AND L.NUM2 = L.NUM3\n",
    "```\n",
    "<hr>"
   ]
  },
  {
   "cell_type": "markdown",
   "metadata": {},
   "source": [
    "```mysql\n",
    "SELECT distinct ConsecutiveNums \n",
    "FROM (\n",
    "    SELECT  Num AS ConsecutiveNums,\n",
    "            CASE \n",
    "                WHEN @prev = Num THEN @count := @count + 1 ELSE @count := 1\n",
    "            END AS count,\n",
    "            @prev := Num\n",
    "    FROM (\n",
    "        SELECT @prev := 0, @count := 0\n",
    "        ) as pre, Logs l\n",
    ") as Consecutive\n",
    "WHERE count >= 3\n",
    "```"
   ]
  }
 ],
 "metadata": {
  "kernelspec": {
   "display_name": "Python 3",
   "language": "python",
   "name": "python3"
  },
  "language_info": {
   "codemirror_mode": {
    "name": "ipython",
    "version": 3
   },
   "file_extension": ".py",
   "mimetype": "text/x-python",
   "name": "python",
   "nbconvert_exporter": "python",
   "pygments_lexer": "ipython3",
   "version": "3.7.6"
  }
 },
 "nbformat": 4,
 "nbformat_minor": 4
}
