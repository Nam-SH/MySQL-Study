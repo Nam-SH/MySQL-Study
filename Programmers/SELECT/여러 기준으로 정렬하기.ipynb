{
 "cells": [
  {
   "cell_type": "markdown",
   "metadata": {},
   "source": [
    "# 여러 기준으로 정렬하기\n",
    "\n",
    "<br>\n",
    "\n",
    "```\n",
    "ANIMAL_INS 테이블은 동물 보호소에 들어온 동물의 정보를 담은 테이블입니다. ANIMAL_INS 테이블 구조는 다음과 같으며, ANIMAL_ID, ANIMAL_TYPE, DATETIME, INTAKE_CONDITION, NAME, SEX_UPON_INTAKE는 각각 동물의 아이디, 생물 종, 보호 시작일, 보호 시작 시 상태, 이름, 성별 및 중성화 여부를 나타냅니다.\n",
    "\n",
    "NAME\tTYPE\tNULLABLE\n",
    "ANIMAL_ID\tVARCHAR(N)\tFALSE\n",
    "ANIMAL_TYPE\tVARCHAR(N)\tFALSE\n",
    "DATETIME\tDATETIME\tFALSE\n",
    "INTAKE_CONDITION\tVARCHAR(N)\tFALSE\n",
    "NAME\tVARCHAR(N)\tTRUE\n",
    "SEX_UPON_INTAKE\tVARCHAR(N)\tFALSE\n",
    "동물 보호소에 들어온 모든 동물의 아이디와 이름, 보호 시작일을 이름 순으로 조회하는 SQL문을 작성해주세요. 단, 이름이 같은 동물 중에서는 보호를 나중에 시작한 동물을 먼저 보여줘야 합니다.\n",
    "\n",
    "예시\n",
    "예를 들어, ANIMAL_INS 테이블이 다음과 같다면\n",
    "\n",
    "ANIMAL_ID\tANIMAL_TYPE\tDATETIME\tINTAKE_CONDITION\tNAME\tSEX_UPON_INTAKE\n",
    "A349996\tCat\t2018-01-22 14:32:00\tNormal\tSugar\tNeutered Male\n",
    "A350276\tCat\t2017-08-13 13:50:00\tNormal\tJewel\tSpayed Female\n",
    "A396810\tDog\t2016-08-22 16:13:00\tInjured\tRaven\tSpayed Female\n",
    "A410668\tCat\t2015-11-19 13:41:00\tNormal\tRaven\tSpayed Female\n",
    "이름을 사전 순으로 정렬하면 다음과 같으며, 'Jewel', 'Raven', 'Sugar'\n",
    "'Raven'이라는 이름을 가진 개와 고양이가 있으므로, 이 중에서는 보호를 나중에 시작한 고양이를 먼저 조회합니다.\n",
    "따라서 SQL문을 실행하면 다음과 같이 나와야 합니다.\n",
    "\n",
    "ANIMAL_ID\tNAME\tDATETIME\n",
    "A350276\tJewel\t2017-08-13 13:50:00\n",
    "A396810\tRaven\t2016-08-22 16:13:00\n",
    "A410668\tRaven\t2015-11-19 13:41:00\n",
    "A349996\tSugar\t2018-01-22 14:32:00\n",
    "본 문제는 Kaggle의 Austin Animal Center Shelter Intakes and Outcomes에서 제공하는 데이터를 사용하였으며 ODbL의 적용을 받습니다.\n",
    "```"
   ]
  },
  {
   "cell_type": "markdown",
   "metadata": {},
   "source": [
    "```mysql\n",
    "-- 코드를 입력하세요\n",
    "SELECT ANIMAL_ID, NAME, DATETIME \n",
    "FROM ANIMAL_INS \n",
    "ORDER BY NAME, DATETIME DESC\n",
    "```"
   ]
  }
 ],
 "metadata": {
  "kernelspec": {
   "display_name": "Python 3",
   "language": "python",
   "name": "python3"
  },
  "language_info": {
   "codemirror_mode": {
    "name": "ipython",
    "version": 3
   },
   "file_extension": ".py",
   "mimetype": "text/x-python",
   "name": "python",
   "nbconvert_exporter": "python",
   "pygments_lexer": "ipython3",
   "version": "3.7.6"
  }
 },
 "nbformat": 4,
 "nbformat_minor": 4
}
