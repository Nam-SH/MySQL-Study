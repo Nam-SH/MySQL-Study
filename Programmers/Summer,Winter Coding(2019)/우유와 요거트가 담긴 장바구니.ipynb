{
 "cells": [
  {
   "cell_type": "markdown",
   "metadata": {},
   "source": [
    "# 우유와 요거트가 담긴 장바구니\n",
    "\n",
    "<br>\n",
    "\n",
    "```\n",
    "CART_PRODUCTS 테이블은 장바구니에 담긴 상품 정보를 담은 테이블입니다. CART_PRODUCTS 테이블의 구조는 다음과 같으며, ID, CART_ID, NAME, PRICE는 각각 테이블의 아이디, 장바구니의 아이디, 상품 종류, 가격을 나타냅니다.\n",
    "\n",
    "NAME\tTYPE\n",
    "ID\tINT\n",
    "CART_ID\tINT\n",
    "NAME\tVARCHAR\n",
    "PRICE\tINT\n",
    "데이터 분석 팀에서는 우유와 요거트를 동시에 구입한 장바구니가 있는지 알아보려 합니다. 우유와 요거트를 동시에 구입한 장바구니의 아이디를 조회하는 SQL 문을 작성해주세요. 이때 결과는 장바구니의 아이디 순으로 나와야 합니다.\n",
    "\n",
    "예시\n",
    "예를 들어 CART_PRODUCTS 테이블이 다음과 같다면\n",
    "\n",
    "CART_PRODUCTS 테이블\n",
    "\n",
    "ID\tCART_ID\tNAME\tPRICE\n",
    "5488\t83\t알루미늄 호일\t2980\n",
    "8435\t83\t우유\t1880\n",
    "5489\t286\t반찬류\t3700\n",
    "5491\t286\t요거트\t2980\n",
    "5504\t286\t우유\t1880\n",
    "8437\t448\t요거트\t2980\n",
    "8454\t448\t우유\t1880\n",
    "5490\t1034\t케첩\t1380\n",
    "5492\t1034\t일회용품\t1080\n",
    "83번 장바구니에는 우유만 있고 요거트가 없습니다.\n",
    "286번 장바구니에는 우유와 요거트가 모두 있습니다.\n",
    "448번 장바구니에는 우유와 요거트가 모두 있습니다.\n",
    "1034번 장바구니에는 우유와 요거트가 모두 없습니다.\n",
    "따라서 SQL 문을 실행하면 다음과 같이 나와야 합니다.\n",
    "\n",
    "CART_ID\n",
    "286\n",
    "448\n",
    "```"
   ]
  },
  {
   "cell_type": "markdown",
   "metadata": {},
   "source": [
    "```MYSQL\n",
    "-- 코드를 입력하세요\n",
    "SELECT A.CART_ID\n",
    "FROM CART_PRODUCTS A, CART_PRODUCTS B\n",
    "WHERE A.CART_ID = B.CART_ID AND A.NAME = \"우유\" AND B.NAME = \"요거트\"\n",
    "ORDER BY A.CART_ID\n",
    "```"
   ]
  },
  {
   "cell_type": "markdown",
   "metadata": {},
   "source": [
    "```mysql\n",
    "-- 코드를 입력하세요\n",
    "SELECT A.CART_ID\n",
    "FROM (\n",
    "    SELECT CART_ID \n",
    "    FROM CART_PRODUCTS \n",
    "    WHERE NAME = '우유') A\n",
    "    JOIN (SELECT CART_ID \n",
    "          FROM CART_PRODUCTS \n",
    "          WHERE NAME = '요거트') B\n",
    "    ON A.CART_ID = B.CART_ID\n",
    "ORDER BY CART_ID\n",
    "```"
   ]
  }
 ],
 "metadata": {
  "kernelspec": {
   "display_name": "Python 3",
   "language": "python",
   "name": "python3"
  },
  "language_info": {
   "codemirror_mode": {
    "name": "ipython",
    "version": 3
   },
   "file_extension": ".py",
   "mimetype": "text/x-python",
   "name": "python",
   "nbconvert_exporter": "python",
   "pygments_lexer": "ipython3",
   "version": "3.7.6"
  }
 },
 "nbformat": 4,
 "nbformat_minor": 4
}
